{
  "nbformat": 4,
  "nbformat_minor": 0,
  "metadata": {
    "colab": {
      "name": "Assignment 1 / 18 jun 2020",
      "provenance": [],
      "authorship_tag": "ABX9TyN+xsGqnPwx7RGDrr7XkqY6",
      "include_colab_link": true
    },
    "kernelspec": {
      "name": "python3",
      "display_name": "Python 3"
    }
  },
  "cells": [
    {
      "cell_type": "markdown",
      "metadata": {
        "id": "view-in-github",
        "colab_type": "text"
      },
      "source": [
        "<a href=\"https://colab.research.google.com/github/Sasikumar5030/Sasi/blob/master/Assignment_1_18_jun_2020.ipynb\" target=\"_parent\"><img src=\"https://colab.research.google.com/assets/colab-badge.svg\" alt=\"Open In Colab\"/></a>"
      ]
    },
    {
      "cell_type": "code",
      "metadata": {
        "id": "_elQ5zXOOir5",
        "colab_type": "code",
        "colab": {}
      },
      "source": [
        ""
      ],
      "execution_count": null,
      "outputs": []
    },
    {
      "cell_type": "markdown",
      "metadata": {
        "id": "HKBLMRvoO41h",
        "colab_type": "text"
      },
      "source": [
        "1.write a python program to design simple calculator for the operator"
      ]
    },
    {
      "cell_type": "markdown",
      "metadata": {
        "id": "cPvPqA9YO33F",
        "colab_type": "text"
      },
      "source": [
        ""
      ]
    },
    {
      "cell_type": "code",
      "metadata": {
        "id": "ribKqni0PM-Y",
        "colab_type": "code",
        "colab": {
          "base_uri": "https://localhost:8080/",
          "height": 177
        },
        "outputId": "f9f483d6-c10c-46bd-df30-f6ba78ca0b4b"
      },
      "source": [
        "a=int(input(\"Enter the value of a\"))\n",
        "b=int(input(\"Enter the value of b\"))\n",
        "print(\"sum of two numbers is\",a+b)\n",
        "print(\"Difference of two numbers\",a-b)\n",
        "print(\"product of two numbers is\",a*b)\n",
        "print(\"division of two numbers is\",a/b)\n",
        "print(\"modulus of two numbers is \",a%b)\n",
        "print(\"exponent of the number is\",a**b)\n",
        "print(\"floor division is\",a//b)"
      ],
      "execution_count": 4,
      "outputs": [
        {
          "output_type": "stream",
          "text": [
            "Enter the value of a 5\n",
            "Enter the value of b 3\n",
            "sum of two numbers is 8\n",
            "Difference of two numbers 2\n",
            "product of two numbers is 15\n",
            "division of two numbers is 1.6666666666666667\n",
            "modulus of two numbers is  2\n",
            "exponent of the number is 125\n",
            "floor division is 1\n"
          ],
          "name": "stdout"
        }
      ]
    },
    {
      "cell_type": "markdown",
      "metadata": {
        "id": "4VAQU8kPQpEg",
        "colab_type": "text"
      },
      "source": [
        "2. Write a pyhton program to calculate the simple interest"
      ]
    },
    {
      "cell_type": "markdown",
      "metadata": {
        "id": "bHtHdCnGQ16s",
        "colab_type": "text"
      },
      "source": [
        ""
      ]
    },
    {
      "cell_type": "code",
      "metadata": {
        "id": "jU0JSseGRxLI",
        "colab_type": "code",
        "colab": {
          "base_uri": "https://localhost:8080/",
          "height": 88
        },
        "outputId": "e57e5453-ce78-439f-84a3-c0329cb35368"
      },
      "source": [
        "p=int(input(\"Enter the value of p\"))\n",
        "t=int(input(\"Enter the time\"))\n",
        "r=int(input(\"Enter the r\"))\n",
        "print(\"simple interest is\",(p*t*r)/100)\n",
        "p='principal value'\n",
        "t='time'\n",
        "r='interest rate'"
      ],
      "execution_count": 8,
      "outputs": [
        {
          "output_type": "stream",
          "text": [
            "Enter the value of p 100000\n",
            "Enter the time2\n",
            "Enter the r2\n",
            "simple interest is 4000.0\n"
          ],
          "name": "stdout"
        }
      ]
    },
    {
      "cell_type": "markdown",
      "metadata": {
        "id": "awu2YPC4TVUj",
        "colab_type": "text"
      },
      "source": [
        " 3. write the python program to calculate the area of cricle"
      ]
    },
    {
      "cell_type": "code",
      "metadata": {
        "id": "c-iRrNNuT2in",
        "colab_type": "code",
        "colab": {
          "base_uri": "https://localhost:8080/",
          "height": 52
        },
        "outputId": "9459c359-e3d9-4a47-f6fb-9db5476b63cf"
      },
      "source": [
        "r=\"radius\"\n",
        "r=int(input(\"Enter the value of r\"))\n",
        "print(\"Area of the circle is\",3.14*r**2)"
      ],
      "execution_count": 9,
      "outputs": [
        {
          "output_type": "stream",
          "text": [
            "Enter the value of r 2\n",
            "Area of the circle is 12.56\n"
          ],
          "name": "stdout"
        }
      ]
    },
    {
      "cell_type": "markdown",
      "metadata": {
        "id": "PMrEBh1GUPza",
        "colab_type": "text"
      },
      "source": [
        "4. Write the python program to calculate the area of triangle"
      ]
    },
    {
      "cell_type": "code",
      "metadata": {
        "id": "3BmvT4awUYOX",
        "colab_type": "code",
        "colab": {
          "base_uri": "https://localhost:8080/",
          "height": 70
        },
        "outputId": "8c1cafcc-2b49-4c1c-af7d-a668e327c774"
      },
      "source": [
        "b=\"breadth\"\n",
        "l=\"length\"\n",
        "b=int(input(\"Enter the value of b\"))\n",
        "l=int(input(\"Enter the value of l\"))\n",
        "print(\"Area of triangle is\",0.5*b*l)"
      ],
      "execution_count": 12,
      "outputs": [
        {
          "output_type": "stream",
          "text": [
            "Enter the value of b 3\n",
            "Enter the value of l 4\n",
            "Area of triangle is 6.0\n"
          ],
          "name": "stdout"
        }
      ]
    },
    {
      "cell_type": "markdown",
      "metadata": {
        "id": "-f6JyRdjVGET",
        "colab_type": "text"
      },
      "source": [
        "5.Write a python program to temperature in celsius to fahrenheit"
      ]
    },
    {
      "cell_type": "code",
      "metadata": {
        "id": "efMPuEs9VXd3",
        "colab_type": "code",
        "colab": {
          "base_uri": "https://localhost:8080/",
          "height": 52
        },
        "outputId": "53d52799-60d2-437b-e669-f2e69e5f1456"
      },
      "source": [
        "c=\"celsius temperature\"\n",
        "c=float(input(\"Enter the value of c\"))\n",
        "fahrenheit=(1.8*c+32)\n",
        "print(\"celsius to fahrenheit is\",fahrenheit)"
      ],
      "execution_count": 16,
      "outputs": [
        {
          "output_type": "stream",
          "text": [
            "Enter the value of c 37.5\n",
            "celsius to fahrenheit is 99.5\n"
          ],
          "name": "stdout"
        }
      ]
    },
    {
      "cell_type": "markdown",
      "metadata": {
        "id": "PDzjeT0hWod7",
        "colab_type": "text"
      },
      "source": [
        "6. Write a python program to calculate the area of rectangle"
      ]
    },
    {
      "cell_type": "code",
      "metadata": {
        "id": "lqvKgeV1W0k2",
        "colab_type": "code",
        "colab": {
          "base_uri": "https://localhost:8080/",
          "height": 70
        },
        "outputId": "c92f1e93-99e7-411b-bd9b-555e454beb05"
      },
      "source": [
        "l=\"length\"\n",
        "b=\"breadth\"\n",
        "l=int(input(\"Enter the value of l\"))\n",
        "b=int(input(\"Enter the value of b\"))\n",
        "print(\"area of rectangle is\",l*b)"
      ],
      "execution_count": 17,
      "outputs": [
        {
          "output_type": "stream",
          "text": [
            "Enter the value of l 5\n",
            "Enter the value of b 4\n",
            "area of rectangle is 20\n"
          ],
          "name": "stdout"
        }
      ]
    },
    {
      "cell_type": "markdown",
      "metadata": {
        "id": "msIpGfRdXP8q",
        "colab_type": "text"
      },
      "source": [
        "7. Write a python program to calculate perimeter of square"
      ]
    },
    {
      "cell_type": "code",
      "metadata": {
        "id": "64PMcSX8XjFP",
        "colab_type": "code",
        "colab": {
          "base_uri": "https://localhost:8080/",
          "height": 52
        },
        "outputId": "c3b3dd7b-02ae-425b-a229-7b5926c0db43"
      },
      "source": [
        "a=\"side of square\"\n",
        "a=int(input(\"Enter the value of a\"))\n",
        "print(\"perimeter of sqaure is\",4*a)"
      ],
      "execution_count": 19,
      "outputs": [
        {
          "output_type": "stream",
          "text": [
            "Enter the value of a 4\n",
            "perimeter of sqaure is 16\n"
          ],
          "name": "stdout"
        }
      ]
    },
    {
      "cell_type": "markdown",
      "metadata": {
        "id": "TnJy7kEnYB7Y",
        "colab_type": "text"
      },
      "source": [
        "8. write a python program to calculate circumference of a circle "
      ]
    },
    {
      "cell_type": "code",
      "metadata": {
        "id": "fzzFgF0EYNcX",
        "colab_type": "code",
        "colab": {
          "base_uri": "https://localhost:8080/",
          "height": 52
        },
        "outputId": "283f7cd4-dcd1-4216-9bd1-9e769702f932"
      },
      "source": [
        "r=\"radius of circle\"\n",
        "r=int(input(\"Enter the value of r\"))\n",
        "print(\"circumference of circle is\",2*3.14*r)"
      ],
      "execution_count": 23,
      "outputs": [
        {
          "output_type": "stream",
          "text": [
            "Enter the value of r 4\n",
            "circumference of circle is 25.12\n"
          ],
          "name": "stdout"
        }
      ]
    },
    {
      "cell_type": "markdown",
      "metadata": {
        "id": "KXrcxyhCY2ZC",
        "colab_type": "text"
      },
      "source": [
        "9. Write a python program to swap two numbers"
      ]
    },
    {
      "cell_type": "code",
      "metadata": {
        "id": "g0thogvJZF81",
        "colab_type": "code",
        "colab": {}
      },
      "source": [
        ""
      ],
      "execution_count": null,
      "outputs": []
    },
    {
      "cell_type": "code",
      "metadata": {
        "id": "Ek9gEEQEZHlt",
        "colab_type": "code",
        "colab": {
          "base_uri": "https://localhost:8080/",
          "height": 88
        },
        "outputId": "08619a5d-62b1-4047-952b-db85b0327aef"
      },
      "source": [
        "x=int(input(\"Enter the alue of x\"))\n",
        "y=int(input(\"Enter the value of y\"))\n",
        "temp='x'\n",
        "x='y'\n",
        "y='temp'\n",
        "print(\"the value of x after swaping\",x)\n",
        "print(\"the value of y after swaping\",y)"
      ],
      "execution_count": 26,
      "outputs": [
        {
          "output_type": "stream",
          "text": [
            "Enter the alue of x 5\n",
            "Enter the value of y 6\n",
            "the value of x after swaping y\n",
            "the value of y after swaping temp\n"
          ],
          "name": "stdout"
        }
      ]
    },
    {
      "cell_type": "code",
      "metadata": {
        "id": "WHDHlnn3Tmh6",
        "colab_type": "code",
        "colab": {}
      },
      "source": [
        ""
      ],
      "execution_count": null,
      "outputs": []
    },
    {
      "cell_type": "code",
      "metadata": {
        "id": "njkVdoIMSulq",
        "colab_type": "code",
        "colab": {}
      },
      "source": [
        ""
      ],
      "execution_count": null,
      "outputs": []
    }
  ]
}