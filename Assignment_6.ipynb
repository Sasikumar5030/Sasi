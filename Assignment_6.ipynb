{
  "nbformat": 4,
  "nbformat_minor": 0,
  "metadata": {
    "colab": {
      "name": " Assignment 6.ipynb",
      "provenance": []
    },
    "kernelspec": {
      "name": "python3",
      "display_name": "Python 3"
    }
  },
  "cells": [
    {
      "cell_type": "markdown",
      "metadata": {
        "id": "j_NlWedrSpVb",
        "colab_type": "text"
      },
      "source": [
        " 1. Convert Binary number to decimal \n",
        "     Ex: 1 0 0 1 0 =1 x 2 5 + 0 x 2 4 + 0 x 2 3 + 1 x 2 2 + 0 x 2 1"
      ]
    },
    {
      "cell_type": "code",
      "metadata": {
        "id": "_ZITht0TTV7g",
        "colab_type": "code",
        "colab": {
          "base_uri": "https://localhost:8080/",
          "height": 51
        },
        "outputId": "dd17afe3-146e-4543-e83e-cd48da82e10e"
      },
      "source": [
        "binary_num=list (input('enter a binary number'))\n",
        "value=0\n",
        "for i in range(len(binary_num)):\n",
        " digit=binary_num.pop()\n",
        "if digit=='1':\n",
        " value=value+pow(2,i)\n",
        "print(\"decimal value of the num is\",value)"
      ],
      "execution_count": null,
      "outputs": [
        {
          "output_type": "stream",
          "text": [
            "enter a binary number1000001\n",
            "decimal value of the num is 64\n"
          ],
          "name": "stdout"
        }
      ]
    },
    {
      "cell_type": "markdown",
      "metadata": {
        "id": "hRWnGiMKWkd8",
        "colab_type": "text"
      },
      "source": [
        "\n",
        "2. Generate first N number of Fibonacci numbers. Take N value from user"
      ]
    },
    {
      "cell_type": "code",
      "metadata": {
        "id": "JxYFglPoWp0G",
        "colab_type": "code",
        "colab": {
          "base_uri": "https://localhost:8080/",
          "height": 141
        },
        "outputId": "e2912b92-9b36-43dd-d9f2-b785f3b4941c"
      },
      "source": [
        "n= int(input(\"Enter the value of n: \"))\n",
        "n1, n2 = 0,1 \n",
        "count=0\n",
        "print(\"Fibonacci Sequence upto\",n,\"terms is: \")\n",
        "while count<n:\n",
        "    print(n1)\n",
        "    nth=n1+n2\n",
        "    n1=n2\n",
        "    n2=nth\n",
        "    count+=1"
      ],
      "execution_count": null,
      "outputs": [
        {
          "output_type": "stream",
          "text": [
            "Enter the value of n: 4\n",
            "Fibonacci Sequence upto 4 terms is: \n",
            "0\n",
            "1\n",
            "1\n",
            "2\n"
          ],
          "name": "stdout"
        }
      ]
    },
    {
      "cell_type": "markdown",
      "metadata": {
        "id": "CTwrvQ9Vl_MH",
        "colab_type": "text"
      },
      "source": [
        "3. Display multiplication table of K. Take k value from user \n",
        "    Ex: 7 x 1 =7 \n",
        "     7 x 2 = 14"
      ]
    },
    {
      "cell_type": "code",
      "metadata": {
        "id": "LhyUrjAwmIU6",
        "colab_type": "code",
        "colab": {
          "base_uri": "https://localhost:8080/",
          "height": 227
        },
        "outputId": "e04e7f45-89d1-4757-d16f-483ce965d0e0"
      },
      "source": [
        "k=int(input(\"enter a num to display its  multiplication table\"))\n",
        "for i in range(1,11):\n",
        "  print(k,'*',i,'=',k*i)"
      ],
      "execution_count": null,
      "outputs": [
        {
          "output_type": "stream",
          "text": [
            "enter a num to display its  multiplication table6\n",
            "6 * 1 = 6\n",
            "6 * 2 = 12\n",
            "6 * 3 = 18\n",
            "6 * 4 = 24\n",
            "6 * 5 = 30\n",
            "6 * 6 = 36\n",
            "6 * 7 = 42\n",
            "6 * 8 = 48\n",
            "6 * 9 = 54\n",
            "6 * 10 = 60\n"
          ],
          "name": "stdout"
        }
      ]
    },
    {
      "cell_type": "markdown",
      "metadata": {
        "id": "OxF1V3yPuB9r",
        "colab_type": "text"
      },
      "source": [
        " 4. Take 10 integers from keyboard using loop and print their average value on the screen Print the   following patterns using loop :"
      ]
    },
    {
      "cell_type": "code",
      "metadata": {
        "id": "hmu2yAoUuMry",
        "colab_type": "code",
        "colab": {
          "base_uri": "https://localhost:8080/",
          "height": 195
        },
        "outputId": "0a54ee9e-3d07-43a1-ce17-d749422428a7"
      },
      "source": [
        "for num in range(0,11):\n",
        "  num=int(input('enter a value'))"
      ],
      "execution_count": null,
      "outputs": [
        {
          "output_type": "stream",
          "text": [
            "enter a value3\n",
            "enter a value4\n",
            "enter a value5\n",
            "enter a value6\n",
            "enter a value7\n",
            "enter a value8\n",
            "enter a value9\n",
            "enter a value10\n"
          ],
          "name": "stdout"
        }
      ]
    },
    {
      "cell_type": "code",
      "metadata": {
        "id": "BYLFcTQQvHTV",
        "colab_type": "code",
        "colab": {
          "base_uri": "https://localhost:8080/",
          "height": 86
        },
        "outputId": "c101b9cd-6be0-4df4-83d5-d1cd1d75d4ba"
      },
      "source": [
        " rows = 4\n",
        "for row in range(1, rows+1):\n",
        "    for column in range(1, row + 1):\n",
        "        print(\"*\", end=\"\")\n",
        "    print(\"\")"
      ],
      "execution_count": null,
      "outputs": [
        {
          "output_type": "stream",
          "text": [
            "*\n",
            "**\n",
            "***\n",
            "****\n"
          ],
          "name": "stdout"
        }
      ]
    },
    {
      "cell_type": "markdown",
      "metadata": {
        "id": "PU2H-Fasvtrd",
        "colab_type": "text"
      },
      "source": [
        " 5.Write a program to find greatest common divisor (GCD) or highest common factor (HCF) of given two numbers."
      ]
    },
    {
      "cell_type": "code",
      "metadata": {
        "id": "_UWZcspgvzqJ",
        "colab_type": "code",
        "colab": {
          "base_uri": "https://localhost:8080/",
          "height": 69
        },
        "outputId": "00cd2db6-70e1-4c56-ab99-ef9dd77f3caf"
      },
      "source": [
        "import math\n",
        "m1=int(input(\"enter fist number\"))\n",
        "m2=int(input(\"enter second number\"))\n",
        "print(math.gcd(m1,m2),\"is the GCD of\", m1,m2)"
      ],
      "execution_count": null,
      "outputs": [
        {
          "output_type": "stream",
          "text": [
            "enter fist number15\n",
            "enter second number30\n",
            "15 is the GCD of 15 30\n"
          ],
          "name": "stdout"
        }
      ]
    },
    {
      "cell_type": "markdown",
      "metadata": {
        "id": "YGS7NhWoxku-",
        "colab_type": "text"
      },
      "source": [
        "6.Write a Python program that accepts a word from the user and reverse it"
      ]
    },
    {
      "cell_type": "code",
      "metadata": {
        "id": "2oJIiYw4x1RU",
        "colab_type": "code",
        "colab": {
          "base_uri": "https://localhost:8080/",
          "height": 51
        },
        "outputId": "93b7cf8e-a45b-4c9e-96f5-8b91c505320c"
      },
      "source": [
        "s=input('enter a word')\n",
        "print(s[::-1])"
      ],
      "execution_count": null,
      "outputs": [
        {
          "output_type": "stream",
          "text": [
            "enter a wordChicken\n",
            "nekcihC\n"
          ],
          "name": "stdout"
        }
      ]
    },
    {
      "cell_type": "markdown",
      "metadata": {
        "id": "R_wgqRg60kfP",
        "colab_type": "text"
      },
      "source": [
        "7. Write a Python program to count the number of even and odd numbers from a series of numbers."
      ]
    },
    {
      "cell_type": "code",
      "metadata": {
        "id": "Aq9qOdLn0qhP",
        "colab_type": "code",
        "colab": {
          "base_uri": "https://localhost:8080/",
          "height": 106
        },
        "outputId": "473e728d-181e-4698-862e-921ea8af9e9e"
      },
      "source": [
        " start=int(input(\"Enter the starting number of the sequence: \"))\n",
        "end=int(input(\"Enter the ending number of the sequence: \"))\n",
        "count_even=0\n",
        "count_odd=0\n",
        "for num in range(start,end+1):\n",
        "    if num%2==0:\n",
        "        count_even+=1\n",
        "    else:\n",
        "        count_odd+=1\n",
        "print(\"The number of even numbers:\",count_even)\n",
        "print(\"The number of odd numbers\",count_odd)"
      ],
      "execution_count": null,
      "outputs": [
        {
          "output_type": "stream",
          "text": [
            "Enter the starting number of the sequence: 0\n",
            "Enter the ending number of the sequence: 30\n",
            "The number of even numbers: 16\n",
            "The number of odd numbers 15\n"
          ],
          "name": "stdout"
        }
      ]
    },
    {
      "cell_type": "markdown",
      "metadata": {
        "id": "RWhBVFVP2Qpe",
        "colab_type": "text"
      },
      "source": [
        "8.Write a Python program that prints all the numbers from 0 to 6 except 3 and 6."
      ]
    },
    {
      "cell_type": "code",
      "metadata": {
        "id": "T92EpmyA2YW9",
        "colab_type": "code",
        "colab": {
          "base_uri": "https://localhost:8080/",
          "height": 103
        },
        "outputId": "4d0677eb-5b63-438c-9093-1604af033677"
      },
      "source": [
        "for num in range(0,6):\n",
        "  if num==3:\n",
        "    continue\n",
        "  print(num)"
      ],
      "execution_count": null,
      "outputs": [
        {
          "output_type": "stream",
          "text": [
            "0\n",
            "1\n",
            "2\n",
            "4\n",
            "5\n"
          ],
          "name": "stdout"
        }
      ]
    }
  ]
}