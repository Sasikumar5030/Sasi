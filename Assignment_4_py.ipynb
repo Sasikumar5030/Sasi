{
  "nbformat": 4,
  "nbformat_minor": 0,
  "metadata": {
    "colab": {
      "name": "Assignment 4.py",
      "provenance": []
    },
    "kernelspec": {
      "name": "python3",
      "display_name": "Python 3"
    }
  },
  "cells": [
    {
      "cell_type": "markdown",
      "metadata": {
        "id": "SrvY73dzVgB-",
        "colab_type": "text"
      },
      "source": [
        "1.write a Python function to find the max of three numbers"
      ]
    },
    {
      "cell_type": "code",
      "metadata": {
        "id": "fX2GydmZVqRM",
        "colab_type": "code",
        "colab": {
          "base_uri": "https://localhost:8080/",
          "height": 54
        },
        "outputId": "20ae7255-dbc2-4714-f205-0045618d6754"
      },
      "source": [
        "def max_of_three(a,b,c):\n",
        "  if a>b and a>c:\n",
        "    print(a,\" is the maximum of three numbers.\")\n",
        "  elif b>c and b>a:\n",
        "    print(b,\" is the maximum of the three numbers.\")\n",
        "  else:\n",
        "    print(c,\" is the maximum of the three numbers.\")\n",
        "max_of_three(3,6,9)"
      ],
      "execution_count": null,
      "outputs": [
        {
          "output_type": "stream",
          "text": [
            "9  is the maximum of the three numbers.\n"
          ],
          "name": "stdout"
        }
      ]
    },
    {
      "cell_type": "markdown",
      "metadata": {
        "id": "xucOscMLaf_K",
        "colab_type": "text"
      },
      "source": [
        "2.Write a Python program to reverse a string."
      ]
    },
    {
      "cell_type": "code",
      "metadata": {
        "id": "LK6vnJdeamnl",
        "colab_type": "code",
        "colab": {
          "base_uri": "https://localhost:8080/",
          "height": 51
        },
        "outputId": "0402ae39-9ec5-427a-8c48-4764742c325c"
      },
      "source": [
        "def reverse_string(str):\n",
        "  print(\"before reversing string\",str)\n",
        "  print(\"after reversing string\",str[::-1])\n",
        "reverse_string(\"Charitha\")"
      ],
      "execution_count": null,
      "outputs": [
        {
          "output_type": "stream",
          "text": [
            "before reversing string Charitha\n",
            "after reversing string ahtirahC\n"
          ],
          "name": "stdout"
        }
      ]
    },
    {
      "cell_type": "markdown",
      "metadata": {
        "id": "q1mp3dnccW5F",
        "colab_type": "text"
      },
      "source": [
        " \n",
        "3.Write a Python function to check whether the number is prime or not."
      ]
    },
    {
      "cell_type": "markdown",
      "metadata": {
        "id": "7mvgty_FfSxm",
        "colab_type": "text"
      },
      "source": [
        " for i in range(2,num):    if num%i==0:\n",
        "        print(\"no\")\n",
        "        break\n",
        "else:\n",
        "    print(\"prime\")"
      ]
    },
    {
      "cell_type": "markdown",
      "metadata": {
        "id": "A06TbZu1fVk7",
        "colab_type": "text"
      },
      "source": [
        "Enter a number:30\n",
        "No"
      ]
    },
    {
      "cell_type": "code",
      "metadata": {
        "id": "DC9mrKdgfiU5",
        "colab_type": "code",
        "colab": {
          "base_uri": "https://localhost:8080/",
          "height": 34
        },
        "outputId": "fba18820-9abf-4272-ed89-ff733831abec"
      },
      "source": [
        " def prime_check(num):\n",
        "    if num<0:\n",
        "        print(\"Negative numbers cannot be prime.\")\n",
        "    elif num==0 and num==1:\n",
        "        print(\"It is neither prime nor composite.\")\n",
        "    elif num==2:\n",
        "        print(\"2 is the only even prime number.\")\n",
        "    elif num>2:\n",
        "        for i in range(2,num):\n",
        "            if num%i==0:\n",
        "                print(\"It is not a prime number.\")\n",
        "                break\n",
        "        else:\n",
        "            print(\"It is a prime number.\")\n",
        "prime_check(23)"
      ],
      "execution_count": null,
      "outputs": [
        {
          "output_type": "stream",
          "text": [
            "It is a prime number.\n"
          ],
          "name": "stdout"
        }
      ]
    },
    {
      "cell_type": "code",
      "metadata": {
        "id": "387HGYACfuiM",
        "colab_type": "code",
        "colab": {
          "base_uri": "https://localhost:8080/",
          "height": 34
        },
        "outputId": "deb1bc03-fd23-4259-f292-1bcdf001455a"
      },
      "source": [
        " def prime_check(num):\n",
        "    if num<0:\n",
        "        print(\"Negative numbers cannot be prime.\")\n",
        "    elif num==0 and num==1:\n",
        "        if num==0:\n",
        "            print(\"0 is neither prime nor composite.\")\n",
        "        else:\n",
        "            print(\"1 is neither prime not composite.\")\n",
        "    elif num==2:\n",
        "        print(\"2 is the only even prime number.\")\n",
        "    elif num>2:\n",
        "        for i in range(2,num):\n",
        "            if num%i==0:\n",
        "                print(\"It is not a prime number.\")\n",
        "                break\n",
        "        else:\n",
        "            print(\"It is a prime number.\")\n",
        "prime_check(24)"
      ],
      "execution_count": null,
      "outputs": [
        {
          "output_type": "stream",
          "text": [
            "It is not a prime number.\n"
          ],
          "name": "stdout"
        }
      ]
    },
    {
      "cell_type": "markdown",
      "metadata": {
        "id": "AgyQE7TOf8kR",
        "colab_type": "text"
      },
      "source": [
        "5.Write a python function to find sum of squares of first n natural numbers."
      ]
    },
    {
      "cell_type": "code",
      "metadata": {
        "id": "7bv1o1C3goqY",
        "colab_type": "code",
        "colab": {
          "base_uri": "https://localhost:8080/",
          "height": 54
        },
        "outputId": "8c0f7516-e91c-4675-dd71-dd0f9156c2f6"
      },
      "source": [
        " def sum_of_squares(num):\n",
        "    sq_sum = 0\n",
        "    for i in range(1, num+1):\n",
        "        sq_sum = sq_sum + i**2\n",
        "    print(\"The sum of squares of the first\",num,\"natural numbers is:\",sq_sum)\n",
        "    \n",
        "sum_of_squares(6)"
      ],
      "execution_count": null,
      "outputs": [
        {
          "output_type": "stream",
          "text": [
            "The sum of squares of the first 6 natural numbers is: 91\n"
          ],
          "name": "stdout"
        }
      ]
    }
  ]
}