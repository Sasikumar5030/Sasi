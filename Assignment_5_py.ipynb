{
  "nbformat": 4,
  "nbformat_minor": 0,
  "metadata": {
    "colab": {
      "name": "Assignment 5.py",
      "provenance": []
    },
    "kernelspec": {
      "name": "python3",
      "display_name": "Python 3"
    }
  },
  "cells": [
    {
      "cell_type": "markdown",
      "metadata": {
        "id": "oqWc7PF-EprM",
        "colab_type": "text"
      },
      "source": [
        " 1.Write a Python program to find area of a circle using math function"
      ]
    },
    {
      "cell_type": "code",
      "metadata": {
        "id": "4qhb-jPSE0EJ",
        "colab_type": "code",
        "colab": {
          "base_uri": "https://localhost:8080/",
          "height": 51
        },
        "outputId": "95444a7b-3195-4472-aacc-b73409f20e9b"
      },
      "source": [
        " def area_of_circle(r):\n",
        "   import math\n",
        "   a=math.pi*r**2\n",
        "   return a\n",
        " \n",
        " r=float(input('enter radius of a circle'))\n",
        " print(\"%.2f\"%area_of_circle(r))"
      ],
      "execution_count": null,
      "outputs": [
        {
          "output_type": "stream",
          "text": [
            "enter radius of a circle3\n",
            "28.27\n"
          ],
          "name": "stdout"
        }
      ]
    },
    {
      "cell_type": "markdown",
      "metadata": {
        "id": "7uHqeuvjNAKA",
        "colab_type": "text"
      },
      "source": [
        "2.Write a program to find Area of Regular Polygon using math function"
      ]
    },
    {
      "cell_type": "code",
      "metadata": {
        "id": "DB-Zwl99RRVY",
        "colab_type": "code",
        "colab": {
          "base_uri": "https://localhost:8080/",
          "height": 89
        },
        "outputId": "4dd71b9f-e2dd-40f7-dd7f-507475972ffd"
      },
      "source": [
        "X= float(input(\"Enter the length of any side: \"))\n",
        "Y= int(input(\"Enter the number of sides in the regular polygon: \"))\n",
        "import math\n",
        "numerator= math.pow(X,2)*Y\n",
        "denominator= 4*(math.tan(math.pi/Y))\n",
        "area= numerator/denominator\n",
        "print(\"The area of the regular polygon is:\",area)"
      ],
      "execution_count": null,
      "outputs": [
        {
          "output_type": "stream",
          "text": [
            "Enter the length of any side: 6\n",
            "Enter the number of sides in the regular polygon: 6\n",
            "The area of the regular polygon is: 93.53074360871938\n"
          ],
          "name": "stdout"
        }
      ]
    },
    {
      "cell_type": "markdown",
      "metadata": {
        "id": "zW9LUdFTS_wW",
        "colab_type": "text"
      },
      "source": [
        "3.Write a program to find  Area of a Segment of a Circle Formula using math function."
      ]
    },
    {
      "cell_type": "code",
      "metadata": {
        "id": "Sbn4NsZXTGv9",
        "colab_type": "code",
        "colab": {
          "base_uri": "https://localhost:8080/",
          "height": 89
        },
        "outputId": "c878104c-afcb-45ea-92fd-9ab49fa349b8"
      },
      "source": [
        "X=float(input('enter the radius of the circle'))\n",
        "Y=int(input('enter the value of central angle in degrees:'))\n",
        "import math\n",
        "part_one= (math.pow(X,2))/2\n",
        "part_two= ((((math.pi)/180)*Y)-math.sin(Y))\n",
        "area= part_one*part_two\n",
        "print(\"Area of the segment of a circle of radius\",X, \"and central angle\",Y,\"is:\",area)"
      ],
      "execution_count": null,
      "outputs": [
        {
          "output_type": "stream",
          "text": [
            "enter the radius of the circle4\n",
            "enter the value of central angle in degrees:5\n",
            "Area of the segment of a circle of radius 4.0 and central angle 5 is: 8.36952589810284\n"
          ],
          "name": "stdout"
        }
      ]
    },
    {
      "cell_type": "markdown",
      "metadata": {
        "id": "BTmvFQybU3XH",
        "colab_type": "text"
      },
      "source": [
        "4.Write a python program to shuffle list l1=[100,1,2,3,30,40,”hai”,”hello”]."
      ]
    },
    {
      "cell_type": "code",
      "metadata": {
        "id": "5vVePvKtU8Wl",
        "colab_type": "code",
        "colab": {
          "base_uri": "https://localhost:8080/",
          "height": 71
        },
        "outputId": "1a4c5c8a-aab0-4362-86b1-2f1348b4df68"
      },
      "source": [
        " from random import shuffle\n",
        "mylist=[100,1,2,3,30,40,\"hi\",\"hello\"]\n",
        "print(\"List before shuffling:\",mylist)\n",
        "shuffle(mylist)\n",
        "print(\"List after shuffling:\",mylist)"
      ],
      "execution_count": null,
      "outputs": [
        {
          "output_type": "stream",
          "text": [
            "List before shuffling: [100, 1, 2, 3, 30, 40, 'hi', 'hello']\n",
            "List after shuffling: [2, 40, 30, 'hello', 1, 3, 100, 'hi']\n"
          ],
          "name": "stdout"
        }
      ]
    },
    {
      "cell_type": "markdown",
      "metadata": {
        "id": "CZUJXUGIVXnU",
        "colab_type": "text"
      },
      "source": [
        " 5.Write a program to generate random numbers between 1,10000 and difference between each random number is 50."
      ]
    },
    {
      "cell_type": "code",
      "metadata": {
        "id": "67ZyAunAVdRH",
        "colab_type": "code",
        "colab": {
          "base_uri": "https://localhost:8080/",
          "height": 54
        },
        "outputId": "b33f4c03-8de8-4247-b835-90814969e952"
      },
      "source": [
        " import random\n",
        "print(\"Random number between 1 and 10000 which has a step of 50:\",random.randrange(1,10000,50))"
      ],
      "execution_count": null,
      "outputs": [
        {
          "output_type": "stream",
          "text": [
            "Random number between 1 and 10000 which has a step of 50: 7051\n"
          ],
          "name": "stdout"
        }
      ]
    },
    {
      "cell_type": "markdown",
      "metadata": {
        "id": "P2Vew1ytV7jJ",
        "colab_type": "text"
      },
      "source": [
        " \n",
        "6.Write a python program by using math module to find"
      ]
    },
    {
      "cell_type": "markdown",
      "metadata": {
        "id": "6mON8_4vWBQl",
        "colab_type": "text"
      },
      "source": [
        " 1.sin 60°"
      ]
    },
    {
      "cell_type": "code",
      "metadata": {
        "id": "1834y84mWLTl",
        "colab_type": "code",
        "colab": {
          "base_uri": "https://localhost:8080/",
          "height": 34
        },
        "outputId": "c84e32bf-0cf1-4372-cdab-78fe0b2f9b6b"
      },
      "source": [
        "import math\n",
        "math.sin(60)"
      ],
      "execution_count": null,
      "outputs": [
        {
          "output_type": "execute_result",
          "data": {
            "text/plain": [
              "-0.3048106211022167"
            ]
          },
          "metadata": {
            "tags": []
          },
          "execution_count": 55
        }
      ]
    },
    {
      "cell_type": "markdown",
      "metadata": {
        "id": "KeN4qwDTWjZJ",
        "colab_type": "text"
      },
      "source": [
        "2.cos(pi)"
      ]
    },
    {
      "cell_type": "code",
      "metadata": {
        "id": "OHhv8IcbWr-0",
        "colab_type": "code",
        "colab": {
          "base_uri": "https://localhost:8080/",
          "height": 34
        },
        "outputId": "1e34286b-f58c-4bcc-ad69-a36c07afd288"
      },
      "source": [
        "import math\n",
        "math.cos(math.pi)"
      ],
      "execution_count": null,
      "outputs": [
        {
          "output_type": "execute_result",
          "data": {
            "text/plain": [
              "-1.0"
            ]
          },
          "metadata": {
            "tags": []
          },
          "execution_count": 57
        }
      ]
    },
    {
      "cell_type": "markdown",
      "metadata": {
        "id": "HCEyaIyDXVsq",
        "colab_type": "text"
      },
      "source": [
        "3.tan 90°"
      ]
    },
    {
      "cell_type": "code",
      "metadata": {
        "id": "Fys5bB0dXrXt",
        "colab_type": "code",
        "colab": {
          "base_uri": "https://localhost:8080/",
          "height": 34
        },
        "outputId": "1f178671-d93d-4b12-f365-50b30b16fb8c"
      },
      "source": [
        "import math\n",
        "math.tan(90)"
      ],
      "execution_count": null,
      "outputs": [
        {
          "output_type": "execute_result",
          "data": {
            "text/plain": [
              "-1.995200412208242"
            ]
          },
          "metadata": {
            "tags": []
          },
          "execution_count": 59
        }
      ]
    },
    {
      "cell_type": "markdown",
      "metadata": {
        "id": "k3shqY4MZeXi",
        "colab_type": "text"
      },
      "source": [
        "4.angle of sin(0.8660254037844386)"
      ]
    },
    {
      "cell_type": "code",
      "metadata": {
        "id": "tfY30s4AZyB1",
        "colab_type": "code",
        "colab": {
          "base_uri": "https://localhost:8080/",
          "height": 34
        },
        "outputId": "1d8c7245-e175-4aa1-f9d8-eb047ade5bbc"
      },
      "source": [
        "import math\n",
        "math.sin(0.8660254037844386)"
      ],
      "execution_count": null,
      "outputs": [
        {
          "output_type": "execute_result",
          "data": {
            "text/plain": [
              "0.7617599814162892"
            ]
          },
          "metadata": {
            "tags": []
          },
          "execution_count": 69
        }
      ]
    },
    {
      "cell_type": "markdown",
      "metadata": {
        "id": "rpH2BwoWXzVW",
        "colab_type": "text"
      },
      "source": [
        "5.5^8"
      ]
    },
    {
      "cell_type": "code",
      "metadata": {
        "id": "9fSdtWEMX2RG",
        "colab_type": "code",
        "colab": {
          "base_uri": "https://localhost:8080/",
          "height": 34
        },
        "outputId": "96d4a71e-96f2-4f1f-8da8-093116f9166c"
      },
      "source": [
        "import math\n",
        "math.pow(5,8)"
      ],
      "execution_count": null,
      "outputs": [
        {
          "output_type": "execute_result",
          "data": {
            "text/plain": [
              "390625.0"
            ]
          },
          "metadata": {
            "tags": []
          },
          "execution_count": 63
        }
      ]
    },
    {
      "cell_type": "markdown",
      "metadata": {
        "id": "9TRm_wYYYhy1",
        "colab_type": "text"
      },
      "source": [
        "6.square root of 400"
      ]
    },
    {
      "cell_type": "code",
      "metadata": {
        "id": "5PsfXXbDYs6l",
        "colab_type": "code",
        "colab": {
          "base_uri": "https://localhost:8080/",
          "height": 34
        },
        "outputId": "938eaaef-40bd-4493-a329-aa9176b2d80d"
      },
      "source": [
        "import math\n",
        "math.sqrt(400)"
      ],
      "execution_count": null,
      "outputs": [
        {
          "output_type": "execute_result",
          "data": {
            "text/plain": [
              "20.0"
            ]
          },
          "metadata": {
            "tags": []
          },
          "execution_count": 64
        }
      ]
    },
    {
      "cell_type": "markdown",
      "metadata": {
        "id": "3Wm4ilnuYyWE",
        "colab_type": "text"
      },
      "source": [
        "7.the value of 5^e"
      ]
    },
    {
      "cell_type": "code",
      "metadata": {
        "id": "8SQpYSpuY_QX",
        "colab_type": "code",
        "colab": {
          "base_uri": "https://localhost:8080/",
          "height": 34
        },
        "outputId": "ddb3e233-0b08-46de-a8ef-2f9cbda14395"
      },
      "source": [
        "import math\n",
        "math.pow(5,math.e)"
      ],
      "execution_count": null,
      "outputs": [
        {
          "output_type": "execute_result",
          "data": {
            "text/plain": [
              "79.43235916621322"
            ]
          },
          "metadata": {
            "tags": []
          },
          "execution_count": 67
        }
      ]
    },
    {
      "cell_type": "markdown",
      "metadata": {
        "id": "gsiUdft-aMRh",
        "colab_type": "text"
      },
      "source": [
        "8.\n",
        "The value of Log(1024), base 2"
      ]
    },
    {
      "cell_type": "code",
      "metadata": {
        "id": "E_l9fnVuaUK5",
        "colab_type": "code",
        "colab": {
          "base_uri": "https://localhost:8080/",
          "height": 34
        },
        "outputId": "ff2b8a40-f656-4f88-d417-bea167212052"
      },
      "source": [
        "import math\n",
        "math.log(1024,2)"
      ],
      "execution_count": null,
      "outputs": [
        {
          "output_type": "execute_result",
          "data": {
            "text/plain": [
              "10.0"
            ]
          },
          "metadata": {
            "tags": []
          },
          "execution_count": 70
        }
      ]
    },
    {
      "cell_type": "markdown",
      "metadata": {
        "id": "ENrQJ3zLapev",
        "colab_type": "text"
      },
      "source": [
        "9.\n",
        "The value of Log(1024), base 1"
      ]
    },
    {
      "cell_type": "code",
      "metadata": {
        "id": "HCtrguUCaswQ",
        "colab_type": "code",
        "colab": {
          "base_uri": "https://localhost:8080/",
          "height": 34
        },
        "outputId": "ad546a31-8803-4845-84e0-475a03daa5ce"
      },
      "source": [
        "import math\n",
        "math.log(1024,10)"
      ],
      "execution_count": null,
      "outputs": [
        {
          "output_type": "execute_result",
          "data": {
            "text/plain": [
              "3.0102999566398116"
            ]
          },
          "metadata": {
            "tags": []
          },
          "execution_count": 72
        }
      ]
    },
    {
      "cell_type": "markdown",
      "metadata": {
        "id": "Bt6tM5Dda6tW",
        "colab_type": "text"
      },
      "source": [
        "10.The Floor and Ceiling value of 23.56"
      ]
    },
    {
      "cell_type": "code",
      "metadata": {
        "id": "3-3F6zKja-bP",
        "colab_type": "code",
        "colab": {
          "base_uri": "https://localhost:8080/",
          "height": 34
        },
        "outputId": "a329d31f-3c03-40c9-8d04-3fcefa3b8f86"
      },
      "source": [
        "import math\n",
        "math.ceil(23.56)"
      ],
      "execution_count": null,
      "outputs": [
        {
          "output_type": "execute_result",
          "data": {
            "text/plain": [
              "24"
            ]
          },
          "metadata": {
            "tags": []
          },
          "execution_count": 74
        }
      ]
    },
    {
      "cell_type": "code",
      "metadata": {
        "id": "exfMx2-8bS58",
        "colab_type": "code",
        "colab": {
          "base_uri": "https://localhost:8080/",
          "height": 34
        },
        "outputId": "e05f5a62-05f0-48ff-893a-41747f387056"
      },
      "source": [
        "import math\n",
        "math.floor(23.56)"
      ],
      "execution_count": null,
      "outputs": [
        {
          "output_type": "execute_result",
          "data": {
            "text/plain": [
              "23"
            ]
          },
          "metadata": {
            "tags": []
          },
          "execution_count": 75
        }
      ]
    },
    {
      "cell_type": "markdown",
      "metadata": {
        "id": "XjUeE65WZQJu",
        "colab_type": "text"
      },
      "source": [
        ""
      ]
    }
  ]
}