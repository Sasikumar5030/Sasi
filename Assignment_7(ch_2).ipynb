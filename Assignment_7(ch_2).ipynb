{
  "nbformat": 4,
  "nbformat_minor": 0,
  "metadata": {
    "colab": {
      "name": "Assignment-7(ch-2).ipynb",
      "provenance": []
    },
    "kernelspec": {
      "name": "python3",
      "display_name": "Python 3"
    }
  },
  "cells": [
    {
      "cell_type": "markdown",
      "metadata": {
        "id": "IHJNFF5hz4Br",
        "colab_type": "text"
      },
      "source": [
        "1.\n",
        "Write a Python program to calculate the length of a string"
      ]
    },
    {
      "cell_type": "code",
      "metadata": {
        "id": "TjM1wxCq1EuB",
        "colab_type": "code",
        "colab": {
          "base_uri": "https://localhost:8080/",
          "height": 51
        },
        "outputId": "5532f2f2-69cc-4050-8107-efd33a8bbd7f"
      },
      "source": [
        "string=input('enter a string:')\n",
        "Length=len(string)\n",
        "print(\"the length of\",string,\"is\",Length)"
      ],
      "execution_count": null,
      "outputs": [
        {
          "output_type": "stream",
          "text": [
            "enter a string:Charitha\n",
            "the length of Charitha is 8\n"
          ],
          "name": "stdout"
        }
      ]
    },
    {
      "cell_type": "markdown",
      "metadata": {
        "id": "1c-vJco23wYv",
        "colab_type": "text"
      },
      "source": [
        "2.Write a Python program to count the number of characters (character frequency) in a string."
      ]
    },
    {
      "cell_type": "code",
      "metadata": {
        "id": "8RSwNL7d329n",
        "colab_type": "code",
        "colab": {
          "base_uri": "https://localhost:8080/",
          "height": 71
        },
        "outputId": "7fe06d11-c2cc-4270-ee63-d3507aea983b"
      },
      "source": [
        "string=input('enter a string')\n",
        "frequency={}\n",
        "for i in string:\n",
        "  if i in frequency:\n",
        "    frequency[i]+=1\n",
        "  else:\n",
        "    frequency[i]=1\n",
        "print(\" character frequency of\",string,\"is\",frequency)"
      ],
      "execution_count": null,
      "outputs": [
        {
          "output_type": "stream",
          "text": [
            "enter a stringChocolate\n",
            " character frequency of Chocolate is {'C': 1, 'h': 1, 'o': 2, 'c': 1, 'l': 1, 'a': 1, 't': 1, 'e': 1}\n"
          ],
          "name": "stdout"
        }
      ]
    },
    {
      "cell_type": "markdown",
      "metadata": {
        "id": "37YMoS456Rbx",
        "colab_type": "text"
      },
      "source": [
        " 3.Write a Python program to get a single string from two given strings, separated by a space and swap the first two characters of each string"
      ]
    },
    {
      "cell_type": "code",
      "metadata": {
        "id": "2-itLo0_6Toi",
        "colab_type": "code",
        "colab": {
          "base_uri": "https://localhost:8080/",
          "height": 86
        },
        "outputId": "79f61a85-3313-4bce-a001-bb0c6aab008e"
      },
      "source": [
        "str1=input(\"enter a first string\")\n",
        "str2=input(\"enter a second string\")\n",
        "str1_swap=str2[:1]+str1[1:]\n",
        "str2_swap=str1[:1]+str2[1:]\n",
        "print(str1_swap)\n",
        "print(str2_swap)"
      ],
      "execution_count": null,
      "outputs": [
        {
          "output_type": "stream",
          "text": [
            "enter a first stringCharitha\n",
            "enter a second stringAmitha\n",
            "Aharitha\n",
            "Cmitha\n"
          ],
          "name": "stdout"
        }
      ]
    },
    {
      "cell_type": "markdown",
      "metadata": {
        "id": "_jqBGNVC7v0V",
        "colab_type": "text"
      },
      "source": [
        "4.Write a Python script that takes input from the user and displays that input back in upper and lower cases"
      ]
    },
    {
      "cell_type": "code",
      "metadata": {
        "id": "R24UeIWR8WQK",
        "colab_type": "code",
        "colab": {
          "base_uri": "https://localhost:8080/",
          "height": 89
        },
        "outputId": "5a4637de-6916-4a51-dbc9-c6d6e65f0ac3"
      },
      "source": [
        "string=input(\"enter a string\")\n",
        "upper_case=string.upper()\n",
        "lower_case=string.lower()\n",
        "print(\"the string\",string,\"in upper case is\",upper_case)\n",
        "print(\"the string\",string,\"in lower case is\",lower_case)"
      ],
      "execution_count": null,
      "outputs": [
        {
          "output_type": "stream",
          "text": [
            "enter a stringKammara\n",
            "the string Kammara in upper case is KAMMARA\n",
            "the string Kammara in lower case is kammara\n"
          ],
          "name": "stdout"
        }
      ]
    },
    {
      "cell_type": "markdown",
      "metadata": {
        "id": "ks24fSGO-GnC",
        "colab_type": "text"
      },
      "source": [
        "5.Write a Python program to remove a newline in Python."
      ]
    },
    {
      "cell_type": "code",
      "metadata": {
        "id": "xHi8174C-LbF",
        "colab_type": "code",
        "colab": {
          "base_uri": "https://localhost:8080/",
          "height": 34
        },
        "outputId": "7aa359c5-e628-46d5-f528-3091274ef66d"
      },
      "source": [
        " string= 'xyz\\n'.rstrip(\"\\n\")\n",
        "print(string)"
      ],
      "execution_count": null,
      "outputs": [
        {
          "output_type": "stream",
          "text": [
            "xyz\n"
          ],
          "name": "stdout"
        }
      ]
    },
    {
      "cell_type": "markdown",
      "metadata": {
        "id": "ZXGfpcJw_T-F",
        "colab_type": "text"
      },
      "source": [
        "6.Write a Python program to count occurrences of a substring in a string."
      ]
    },
    {
      "cell_type": "code",
      "metadata": {
        "id": "J3Be4XrU_X_e",
        "colab_type": "code",
        "colab": {
          "base_uri": "https://localhost:8080/",
          "height": 89
        },
        "outputId": "852a8f87-848c-4dd1-bc9c-f9654e1d8c85"
      },
      "source": [
        "string=input('enter a string')\n",
        "substring=input('enter a substring')\n",
        "frequency=len(string.split(substring))\n",
        "print(\"number of times substring is\",substring,\"has repeated in\",string,\"is:\",frequency)"
      ],
      "execution_count": null,
      "outputs": [
        {
          "output_type": "stream",
          "text": [
            "enter a stringCoconut\n",
            "enter a substringCo\n",
            "number of times substring is Co has repeated in Coconut is: 2\n"
          ],
          "name": "stdout"
        }
      ]
    },
    {
      "cell_type": "markdown",
      "metadata": {
        "id": "qzT0--MKB3r8",
        "colab_type": "text"
      },
      "source": [
        "7.Write a Python program to convert a string in a list."
      ]
    },
    {
      "cell_type": "code",
      "metadata": {
        "id": "bDQRIyUMCWh9",
        "colab_type": "code",
        "colab": {
          "base_uri": "https://localhost:8080/",
          "height": 54
        },
        "outputId": "f280fe08-4e79-4494-b44d-4556e42406da"
      },
      "source": [
        "s = 'a,b,c'\n",
        "print(f'List of Characters ={s.split(\",\")}')"
      ],
      "execution_count": null,
      "outputs": [
        {
          "output_type": "stream",
          "text": [
            "List of Characters =['a', 'b', 'c']\n"
          ],
          "name": "stdout"
        }
      ]
    },
    {
      "cell_type": "markdown",
      "metadata": {
        "id": "ezaqnS1jHaCM",
        "colab_type": "text"
      },
      "source": [
        "8.Write a Python program to perform Deletion of a character"
      ]
    },
    {
      "cell_type": "code",
      "metadata": {
        "id": "f820kEIcHftg",
        "colab_type": "code",
        "colab": {
          "base_uri": "https://localhost:8080/",
          "height": 86
        },
        "outputId": "b7fb2a4b-75a3-48bc-ffdd-048ca46f1530"
      },
      "source": [
        " string=input(\"Enter a string: \")\n",
        "char=input(\"Enter the character to delete: \")\n",
        "print(\"The resultant string is\",string.replace(char,\"\"))\n",
        "print(\"The deleted char is\",char,\",\")"
      ],
      "execution_count": null,
      "outputs": [
        {
          "output_type": "stream",
          "text": [
            "Enter a string: Code\n",
            "Enter the character to delete: o\n",
            "The resultant string is Cde\n",
            "The deleted char is o ,\n"
          ],
          "name": "stdout"
        }
      ]
    },
    {
      "cell_type": "markdown",
      "metadata": {
        "id": "UOdsqfKFH2Y3",
        "colab_type": "text"
      },
      "source": [
        "9.Write a program to print every character of a string entered by user in a new line using loop."
      ]
    },
    {
      "cell_type": "code",
      "metadata": {
        "id": "bfN18OirIEYf",
        "colab_type": "code",
        "colab": {
          "base_uri": "https://localhost:8080/",
          "height": 294
        },
        "outputId": "bd15d81b-a945-4f33-a528-e8d895e3c75a"
      },
      "source": [
        "for i in \"CHARITHA KAMMARA\":\n",
        "  print(i)"
      ],
      "execution_count": null,
      "outputs": [
        {
          "output_type": "stream",
          "text": [
            "C\n",
            "H\n",
            "A\n",
            "R\n",
            "I\n",
            "T\n",
            "H\n",
            "A\n",
            " \n",
            "K\n",
            "A\n",
            "M\n",
            "M\n",
            "A\n",
            "R\n",
            "A\n"
          ],
          "name": "stdout"
        }
      ]
    },
    {
      "cell_type": "markdown",
      "metadata": {
        "id": "c0uDBzf5JEMH",
        "colab_type": "text"
      },
      "source": [
        "10.Write a program to find the length of the string \"refrigerator\" without using len function."
      ]
    },
    {
      "cell_type": "code",
      "metadata": {
        "id": "0-ofuWIeJHTy",
        "colab_type": "code",
        "colab": {
          "base_uri": "https://localhost:8080/",
          "height": 54
        },
        "outputId": "6183fd26-7b07-48a3-cade-6d6aca718d9d"
      },
      "source": [
        " string= \"Apple\"\n",
        "length=0\n",
        "for i in string:\n",
        "    length+=1\n",
        "print(\"The length of the string\",string,\"is:\",length)"
      ],
      "execution_count": null,
      "outputs": [
        {
          "output_type": "stream",
          "text": [
            "The length of the string Apple is: 5\n"
          ],
          "name": "stdout"
        }
      ]
    }
  ]
}